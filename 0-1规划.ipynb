{
 "cells": [
  {
   "cell_type": "code",
   "id": "11aef5e4eed5c70f",
   "metadata": {
    "collapsed": true,
    "ExecuteTime": {
     "end_time": "2024-08-18T15:44:52.434620Z",
     "start_time": "2024-08-18T15:44:52.420722Z"
    }
   },
   "source": [
    "# -*- coding: utf-8 -*-\n",
    "import numpy as np\n",
    "import os"
   ],
   "outputs": [],
   "execution_count": 4
  },
  {
   "metadata": {
    "ExecuteTime": {
     "end_time": "2024-08-19T03:02:40.774639Z",
     "start_time": "2024-08-19T03:02:40.762598Z"
    }
   },
   "cell_type": "code",
   "source": [
    "#0-1背包算法\n",
    "def knapsack(v,w,n,capacity):\n",
    "    i = 0\n",
    "    capacity = capacity +1   #初始化背包容量最大值\n",
    "    m = np.zeros((n,capacity))  #初始化\n",
    "    x = np.zeros(n)\n",
    "    for i in range(n):\n",
    "        for j in range(capacity):\n",
    "            if (j >= w[i]):\n",
    "                m[i][j] = max(m[i - 1][j], m[i - 1][j - w[i]] + v[i])\n",
    "            else:\n",
    "                m[i][j] = m[i - 1][j]\n",
    "    print('动态规划装载表:\\n',m)\n",
    "    capacity = capacity -1\n",
    "    for i in range(n-1, 0, -1):\n",
    "        if (m[i][capacity] == m[i - 1][capacity]):\n",
    "            x[i] = 0\n",
    "        else:\n",
    "            x[i] = 1\n",
    "            capacity -= w[i]\n",
    "    x[0] =1 if (m[1][capacity] > 0) else 0\n",
    "    weight = 0\n",
    "    value = 0\n",
    "    print('装载的物品编号为：')\n",
    "    for i in range(len(x)):\n",
    "        if(x[i] == 1):\n",
    "            weight = weight + w[i]\n",
    "            value = value +v[i]\n",
    "            print(' ',i+1)\n",
    "    print('装载的物品重量为：')\n",
    "    print(weight)\n",
    "    print('装入的物品价值为：')\n",
    "    print(value)\n",
    "    return m\n",
    "\n",
    "file_name = ['input_assgin02_01.dat','input_assgin02_02.dat','input_assgin02_03.dat',\n",
    "             'input_assgin02_04.dat','input_assgin02_05.dat']"
   ],
   "id": "19d50f958d0b198f",
   "outputs": [
    {
     "name": "stdout",
     "output_type": "stream",
     "text": [
      "input_assgin02_01.dat\n"
     ]
    }
   ],
   "execution_count": 2
  },
  {
   "metadata": {
    "ExecuteTime": {
     "end_time": "2024-08-19T03:04:09.472342Z",
     "start_time": "2024-08-19T03:04:09.456230Z"
    }
   },
   "cell_type": "code",
   "source": [
    "#循环读取文件数据\n",
    "for file_name in file_name:\n",
    "\ta = np.loadtxt(file_name)\n",
    "\tn = int( a[0][0] )    #读取物品数量\n",
    "\tcapacity = int ( a[0][1] )\n",
    "\tprint('#######################')\n",
    "\tprint ('{0}文件中的测试结果：'.format(file_name))\n",
    "\tprint('物品数量为：\\n',n,'\\n背包载重量为：\\n',capacity)\n",
    "\tw = [0] * n    #初始化物品重量列表\n",
    "\tvalue = [0] * n    #初始化物品价值列表\n",
    "\ta = np.loadtxt(file_name, skiprows = 1, dtype = int) \n",
    "\tfor i in range(n):  \n",
    "\t\tw[i] = int ( a[i][0] )    #读取物品重量列表\n",
    "\t\tvalue[i] = int ( a[i][1] )    #读取物品价值列表\n",
    "\tprint('物品的重量列表为：\\n', w,'\\n物品的价值列表为：\\n', value)\n",
    "\tknapsack(value, w, n, capacity)\n",
    "os.system('pause')"
   ],
   "id": "initial_id",
   "outputs": [
    {
     "ename": "IndentationError",
     "evalue": "unindent does not match any outer indentation level (<tokenize>, line 5)",
     "output_type": "error",
     "traceback": [
      "\u001B[1;36m  File \u001B[1;32m<tokenize>:5\u001B[1;36m\u001B[0m\n\u001B[1;33m    print('n')\u001B[0m\n\u001B[1;37m    ^\u001B[0m\n\u001B[1;31mIndentationError\u001B[0m\u001B[1;31m:\u001B[0m unindent does not match any outer indentation level\n"
     ]
    }
   ],
   "execution_count": 6
  },
  {
   "metadata": {},
   "cell_type": "code",
   "outputs": [],
   "execution_count": null,
   "source": "",
   "id": "20ea9538b9a02f3a"
  }
 ],
 "metadata": {
  "kernelspec": {
   "display_name": "Python 3",
   "language": "python",
   "name": "python3"
  },
  "language_info": {
   "codemirror_mode": {
    "name": "ipython",
    "version": 2
   },
   "file_extension": ".py",
   "mimetype": "text/x-python",
   "name": "python",
   "nbconvert_exporter": "python",
   "pygments_lexer": "ipython2",
   "version": "2.7.6"
  }
 },
 "nbformat": 4,
 "nbformat_minor": 5
}
