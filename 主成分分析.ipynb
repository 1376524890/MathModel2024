{
 "cells": [
  {
   "cell_type": "code",
   "execution_count": null,
   "id": "299ffa59903d6f91",
   "metadata": {
    "collapsed": true
   },
   "outputs": [],
   "source": [
    "import pandas as pd\n",
    "import numpy as np\n",
    "\n",
    "#在Python中导入scipy.库中的Linalg模块\n",
    "#scipy是Python中的一个料学计算库\n",
    "#linalg是线性代数(linear algebra)的缩写，它是数学的一个分支，涉及线性方程、线性函数以及它们通过矩阵和向量空间的表示。\n",
    "\n",
    "from scipy import linalg\n",
    "\n",
    "# 读取excel文档\n",
    "df = pd.read_excel('data.xlsx', usecols='C:G')\n",
    "print(df)\n",
    "\n",
    "x = df.to_numpy()\n",
    "print(x)"
   ]
  },
  {
   "metadata": {},
   "cell_type": "code",
   "outputs": [],
   "execution_count": null,
   "source": [
    "# 标准化数据\n",
    "X = (x - np.mean(x, axis=0)) / np.std(x, ddof=1, axis=0) # np.mean计算均值，np.std计算标准差\n",
    "\n",
    "# 计算协方差矩阵\n",
    "R = np.cov(X.T) # np.cov计算协方差矩阵\n",
    "\n",
    "# 计算特征值和特征向量\n",
    "eigenvalues, eigenvectors = linalg.eigh(R) # linalg.eigh计算特征值和特征向量，从高到低排列\n",
    "# 将特征值数组降序排列\n",
    "eigenvalues = eigenvalues[::-1]\n",
    "# 将特征向量数组降序排列\n",
    "eigenvectors = eigenvectors[:, ::-1]\n",
    "\n",
    "# 计算主成分贡献率和累计贡献率\n",
    "contribution_rate = eigenvalues / eigenvalues.sum()\n",
    "# np.cumsum()函数用于计算数组元素的累积和\n",
    "cum_contribution_rate = np.cumsum(contribution_rate)\n",
    "\n",
    "# 输出结果\n",
    "print('特征值:', eigenvalues)\n",
    "print('贡献率：', contribution_rate)\n",
    "print('累计贡献率：', cum_contribution_rate)\n",
    "print('与特征值对应的特征向量：', eigenvectors)"
   ],
   "id": "initial_id"
  }
 ],
 "metadata": {
  "kernelspec": {
   "display_name": "Python 3",
   "language": "python",
   "name": "python3"
  },
  "language_info": {
   "codemirror_mode": {
    "name": "ipython",
    "version": 2
   },
   "file_extension": ".py",
   "mimetype": "text/x-python",
   "name": "python",
   "nbconvert_exporter": "python",
   "pygments_lexer": "ipython2",
   "version": "2.7.6"
  }
 },
 "nbformat": 4,
 "nbformat_minor": 5
}
