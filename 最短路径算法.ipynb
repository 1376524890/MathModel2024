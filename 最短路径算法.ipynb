{
 "cells": [
  {
   "cell_type": "code",
   "id": "initial_id",
   "metadata": {
    "collapsed": true,
    "ExecuteTime": {
     "end_time": "2024-08-19T03:37:29.750819Z",
     "start_time": "2024-08-19T03:37:29.727817Z"
    }
   },
   "source": [
    "# 找到一条从start到end的路径\n",
    "def findPath(graph,start,end,path=[]):   \n",
    "    path = path + [start]\n",
    "    if start == end:\n",
    "        return path \n",
    "    for node in graph[start]:\n",
    "        if node not in path:\n",
    "            newpath = findPath(graph,node,end,path)\n",
    "            if newpath:\n",
    "                return newpath\n",
    "    return None\n",
    " \n",
    "# 找到所有从start到end的路径\n",
    "def findAllPath(graph,start,end,path=[]):\n",
    "    path = path +[start]\n",
    "    if start == end:\n",
    "        return [path]\n",
    " \n",
    "    paths = [] #存储所有路径    \n",
    "    for node in graph[start]:\n",
    "        if node not in path:\n",
    "            newpaths = findAllPath(graph,node,end,path) \n",
    "            for newpath in newpaths:\n",
    "                paths.append(newpath)\n",
    "    return paths\n",
    " \n",
    "# 查找最短路径\n",
    "def findShortestPath(graph,start,end,path=[]):\n",
    "    path = path +[start]\n",
    "    if start == end:\n",
    "        return path\n",
    "    \n",
    "    shortestPath = []\n",
    "    for node in graph[start]:\n",
    "        if node not in path:\n",
    "            newpath = findShortestPath(graph,node,end,path)\n",
    "            if newpath:\n",
    "                if not shortestPath or len(newpath)<len(shortestPath):\n",
    "                    shortestPath = newpath\n",
    "    return shortestPath\n",
    " \n",
    "    '''\n",
    "主程序\n",
    "'''\n",
    "graph = {'A': ['B', 'C','D'],\n",
    "         'B': [ 'E'],\n",
    "         'C': ['D','F'],\n",
    "         'D': ['B','E','G'],\n",
    "         'E': [],\n",
    "         'F': ['D','G'],\n",
    "         'G': ['E']}\n",
    " \n",
    "onepath = findPath(graph,'A','G')\n",
    "print('一条路径:',onepath)\n",
    " \n",
    "allpath = findAllPath(graph,'A','G')\n",
    "print('\\n所有路径：',allpath)\n",
    " \n",
    "shortpath = findShortestPath(graph,'A','G')\n",
    "print('\\n最短路径：',shortpath)\n"
   ],
   "outputs": [
    {
     "name": "stdout",
     "output_type": "stream",
     "text": [
      "一条路径: ['A', 'C', 'D', 'G']\n",
      "\n",
      "所有路径： [['A', 'C', 'D', 'G'], ['A', 'C', 'F', 'D', 'G'], ['A', 'C', 'F', 'G'], ['A', 'D', 'G']]\n",
      "\n",
      "最短路径： ['A', 'D', 'G']\n"
     ]
    }
   ],
   "execution_count": 1
  }
 ],
 "metadata": {
  "kernelspec": {
   "display_name": "Python 3",
   "language": "python",
   "name": "python3"
  },
  "language_info": {
   "codemirror_mode": {
    "name": "ipython",
    "version": 2
   },
   "file_extension": ".py",
   "mimetype": "text/x-python",
   "name": "python",
   "nbconvert_exporter": "python",
   "pygments_lexer": "ipython2",
   "version": "2.7.6"
  }
 },
 "nbformat": 4,
 "nbformat_minor": 5
}
