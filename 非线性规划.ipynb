{
 "cells": [
  {
   "cell_type": "code",
   "id": "initial_id",
   "metadata": {
    "collapsed": true,
    "ExecuteTime": {
     "end_time": "2024-08-18T15:42:09.468655Z",
     "start_time": "2024-08-18T15:42:09.455068Z"
    }
   },
   "source": [
    "from scipy import optimize as opt\n",
    "import numpy as np\n",
    "from scipy.optimize import minimize"
   ],
   "outputs": [],
   "execution_count": null
  },
  {
   "metadata": {
    "ExecuteTime": {
     "end_time": "2024-08-18T15:42:10.374162Z",
     "start_time": "2024-08-18T15:42:09.471171Z"
    }
   },
   "cell_type": "code",
   "source": [
    "# 目标函数\n",
    "def objective(x):\n",
    "\treturn x[0] ** 2 + x[1] ** 2 + x[2] ** 2 + 8\n",
    "\n",
    "\n",
    "# 约束条件\n",
    "def constraint1(x):\n",
    "\treturn x[0] ** 2 - x[1] + x[2] ** 2  # 不等约束\n",
    "\n",
    "\n",
    "def constraint2(x):\n",
    "\treturn -(x[0] + x[1] ** 2 + x[2] ** 2 - 20)  # 不等约束\n",
    "\n",
    "\n",
    "def constraint3(x):\n",
    "\treturn -x[0] - x[1] ** 2 + 2\n",
    "\n",
    "\n",
    "def constraint4(x):\n",
    "\treturn x[1] + 2 * x[2] ** 2 - 3  # 不等约束\n",
    "\n",
    "\n",
    "# 边界约束\n",
    "b = (0.0, None)\n",
    "bnds = (b, b, b)\n",
    "\n",
    "con1 = {'type': 'ineq', 'fun': constraint1}\n",
    "con2 = {'type': 'ineq', 'fun': constraint2}\n",
    "con3 = {'type': 'eq', 'fun': constraint3}\n",
    "con4 = {'type': 'eq', 'fun': constraint4}\n",
    "cons = ([con1, con2, con3, con4])  # 4个约束条件\n",
    "x0 = np.array([0, 0, 0])\n",
    "# 计算\n",
    "solution = minimize(objective, x0, method='SLSQP',  bounds=bnds, constraints=cons)\n",
    "x = solution.x\n",
    "\n",
    "print('目标值: ' + str(objective(x)))\n",
    "print('答案为')\n",
    "print('x1 = ' + str(x[0]))\n",
    "print('x2 = ' + str(x[1]))\n"
   ],
   "id": "f1a000901eb53849",
   "outputs": [
    {
     "name": "stdout",
     "output_type": "stream",
     "text": [
      "目标值: 10.651091840572583\n",
      "答案为\n",
      "x1 = 0.5521673412903173\n",
      "x2 = 1.203259181851855\n"
     ]
    }
   ],
   "execution_count": 1
  }
 ],
 "metadata": {
  "kernelspec": {
   "display_name": "Python 3",
   "language": "python",
   "name": "python3"
  },
  "language_info": {
   "codemirror_mode": {
    "name": "ipython",
    "version": 2
   },
   "file_extension": ".py",
   "mimetype": "text/x-python",
   "name": "python",
   "nbconvert_exporter": "python",
   "pygments_lexer": "ipython2",
   "version": "2.7.6"
  }
 },
 "nbformat": 4,
 "nbformat_minor": 5
}
