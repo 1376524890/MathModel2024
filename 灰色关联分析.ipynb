{
 "cells": [
  {
   "metadata": {},
   "cell_type": "markdown",
   "source": "![图片1](灰色关联分析_01.png)",
   "id": "6fb6b6b13bd7e943"
  },
  {
   "metadata": {
    "ExecuteTime": {
     "end_time": "2024-07-25T14:28:57.765597Z",
     "start_time": "2024-07-25T14:28:57.529884Z"
    }
   },
   "cell_type": "code",
   "source": [
    "import numpy as np\n",
    "\n",
    "A = np.array([[55,24,10],[65,38,22],[75,40,18],[100,50,20]])"
   ],
   "id": "434b3b10c11a80bb",
   "outputs": [],
   "execution_count": 1
  },
  {
   "metadata": {},
   "cell_type": "markdown",
   "source": "![图片1](灰色关联分析_04.png)",
   "id": "23416f585d30490b"
  },
  {
   "metadata": {
    "ExecuteTime": {
     "end_time": "2024-07-25T14:28:57.781632Z",
     "start_time": "2024-07-25T14:28:57.767113Z"
    }
   },
   "cell_type": "code",
   "source": [
    "#求出每列均值用于预处理\n",
    "Mean = np.mean(A,axis=0)\n",
    "\n",
    "#预处理后矩阵\n",
    "A_norm = A / Mean\n",
    "\n",
    "print(\"预处理后矩阵为：\\n\",A_norm)"
   ],
   "id": "44a995520954afa7",
   "outputs": [
    {
     "name": "stdout",
     "output_type": "stream",
     "text": [
      "预处理后矩阵为：\n",
      " [[0.74576271 0.63157895 0.57142857]\n",
      " [0.88135593 1.         1.25714286]\n",
      " [1.01694915 1.05263158 1.02857143]\n",
      " [1.3559322  1.31578947 1.14285714]]\n"
     ]
    }
   ],
   "execution_count": 2
  },
  {
   "metadata": {},
   "cell_type": "markdown",
   "source": "![图片2](灰色关联分析_02.png)",
   "id": "5f8336d338c2a782"
  },
  {
   "metadata": {
    "ExecuteTime": {
     "end_time": "2024-07-25T14:28:57.797113Z",
     "start_time": "2024-07-25T14:28:57.782632Z"
    }
   },
   "cell_type": "code",
   "source": [
    "#母序列\n",
    "Y = A_norm[:,0]"
   ],
   "id": "2873f9c28a7fb6cd",
   "outputs": [],
   "execution_count": 3
  },
  {
   "metadata": {},
   "cell_type": "markdown",
   "source": "![图片3](灰色关联分析_03.png)",
   "id": "57185157349f3e78"
  },
  {
   "metadata": {
    "ExecuteTime": {
     "end_time": "2024-07-25T14:28:57.812547Z",
     "start_time": "2024-07-25T14:28:57.799029Z"
    }
   },
   "cell_type": "code",
   "source": [
    "#子序列\n",
    "X = A_norm[:,1:]"
   ],
   "id": "e579727cff57551b",
   "outputs": [],
   "execution_count": 4
  },
  {
   "metadata": {},
   "cell_type": "markdown",
   "source": "![图片4](灰色关联分析_05.png)",
   "id": "b9a22982d5e2864d"
  },
  {
   "metadata": {
    "ExecuteTime": {
     "end_time": "2024-07-25T14:28:57.828738Z",
     "start_time": "2024-07-25T14:28:57.813545Z"
    }
   },
   "cell_type": "code",
   "source": [
    "# 计算|X0 - Xi|矩阵（X0为母序列Y)\n",
    "absX0_Xi = np.abs(X - np.tile(Y.reshape(-1, 1), (1, X.shape[1])))\n",
    "\n",
    "# 计算两级最小差a\n",
    "a = np.min(absX0_Xi)\n",
    "\n",
    "# 计算量级最大差b\n",
    "b = np.max(absX0_Xi)\n",
    "\n",
    "# 分辨系数取0.5\n",
    "rho = 0.5"
   ],
   "id": "4dc6b471419ce380",
   "outputs": [],
   "execution_count": 5
  },
  {
   "metadata": {},
   "cell_type": "markdown",
   "source": "![图片5](灰色关联分析_06.png)",
   "id": "7b75f2768363f4e2"
  },
  {
   "metadata": {
    "ExecuteTime": {
     "end_time": "2024-07-25T14:28:57.844122Z",
     "start_time": "2024-07-25T14:28:57.830607Z"
    }
   },
   "cell_type": "code",
   "source": [
    "gamma = (a + rho * b) / (absX0_Xi + rho * b)\n",
    "\n",
    "print(\"子序列中各个指标的灰色关联度分别为：\")\n",
    "print(np.mean(gamma, axis=0))"
   ],
   "id": "7c7f25abb6aa6f9f",
   "outputs": [
    {
     "name": "stdout",
     "output_type": "stream",
     "text": [
      "子序列中各个指标的灰色关联度分别为：\n",
      "[0.76966578 0.60058464]\n"
     ]
    }
   ],
   "execution_count": 6
  }
 ],
 "metadata": {
  "kernelspec": {
   "display_name": "Python 3",
   "language": "python",
   "name": "python3"
  },
  "language_info": {
   "codemirror_mode": {
    "name": "ipython",
    "version": 2
   },
   "file_extension": ".py",
   "mimetype": "text/x-python",
   "name": "python",
   "nbconvert_exporter": "python",
   "pygments_lexer": "ipython2",
   "version": "2.7.6"
  }
 },
 "nbformat": 4,
 "nbformat_minor": 5
}
