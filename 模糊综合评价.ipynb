{
 "cells": [
  {
   "metadata": {},
   "cell_type": "markdown",
   "source": "![图片1](模糊综合评价_01.png)",
   "id": "cfe793c7c6a3e714"
  },
  {
   "metadata": {},
   "cell_type": "markdown",
   "source": "![图片1](模糊综合评价_02.png)",
   "id": "a83aace9a7e5468c"
  },
  {
   "metadata": {},
   "cell_type": "markdown",
   "source": "![图片1](模糊综合评价_03.png)",
   "id": "27459eb44644d1b9"
  },
  {
   "metadata": {
    "ExecuteTime": {
     "end_time": "2024-07-24T14:25:42.528155Z",
     "start_time": "2024-07-24T14:25:42.367983Z"
    }
   },
   "cell_type": "code",
   "source": "import numpy as np",
   "id": "9b7fce4d803020b7",
   "outputs": [],
   "execution_count": 1
  },
  {
   "metadata": {},
   "cell_type": "markdown",
   "source": "![图片1](模糊综合评价_04.png)",
   "id": "87f3a4c6c519ea73"
  },
  {
   "metadata": {
    "ExecuteTime": {
     "end_time": "2024-07-24T14:25:42.543250Z",
     "start_time": "2024-07-24T14:25:42.529161Z"
    }
   },
   "cell_type": "code",
   "source": [
    "#1. 一级模糊综合评价\n",
    "#单因素评价矩阵：\n",
    "R23 = np.array([[0.18,0.14,0.18,0.14,0.13,0.23],\n",
    "                [0.14,0.18,0.23,0.25,0.23,0.28],\n",
    "                [0.18,0.23,0.28,0.33,0.28,0.33],\n",
    "                [0.14,0.25,0.33,0.38,0.33,0.38],\n",
    "                [0.13,0.23,0.28,0.33,0.38,0.33],\n",
    "                [0.23,0.28,0.33,0.38,0.33,0.38],\n",
    "                [0.28,0.33,0.38,0.33,0.38,0.33]])\n",
    "\n",
    "#权重分配为\n",
    "A23 = np.array([0.2,0.15,0.1,0.1,0.2,0.15,0.1])\n",
    "\n",
    "#评价结果\n",
    "B23 = np.dot(A23, R23)"
   ],
   "id": "8541d3c4a251c322",
   "outputs": [],
   "execution_count": 2
  },
  {
   "metadata": {
    "ExecuteTime": {
     "end_time": "2024-07-24T14:25:42.559310Z",
     "start_time": "2024-07-24T14:25:42.544222Z"
    }
   },
   "cell_type": "code",
   "source": [
    "#2. 二级模糊综合评价\n",
    "#因素1二级评判\n",
    "R1 = np.array([[0.12,0.18,0.17,0.23,0.13,0.17],\n",
    "              [0.18,0.23,0.25,0.28,0.18,0.25],\n",
    "              [0.17,0.25,0.28,0.33,0.17,0.28],\n",
    "              [0.23,0.28,0.33,0.38,0.23,0.33],\n",
    "              [0.13,0.18,0.17,0.23,0.13,0.17]])\n",
    "\n",
    "A1 = np.array([0.15,0.4,0.25,0.1,0.1])\n",
    "B1 = np.dot(A1, R1)\n",
    "#因素2二级评判\n",
    "R2 = np.array([[0.18,0.14,0.18,0.14,0.13,0.23],\n",
    "              [0.14,0.18,0.23,0.25,0.23,0.28],\n",
    "               B23,\n",
    "              [0.18,0.23,0.28,0.33,0.28,0.33],\n",
    "              [0.14,0.25,0.33,0.38,0.33,0.38],\n",
    "])\n",
    "A2 = np.array([0.15,0.4,0.25,0.1,0.1])\n",
    "B2 = np.dot(A2, R2)\n",
    "\n",
    "#因素3二级评判\n",
    "R3 = np.array([[0.18,0.14,0.18,0.14,0.13,0.23],\n",
    "               [0.14,0.18,0.23,0.25,0.23,0.28]])\n",
    "A3 = np.array([0.15,0.4])\n",
    "B3 = np.dot(A3, R3)"
   ],
   "id": "bf6f551faae922e9",
   "outputs": [],
   "execution_count": 3
  },
  {
   "metadata": {
    "ExecuteTime": {
     "end_time": "2024-07-24T14:25:42.574585Z",
     "start_time": "2024-07-24T14:25:42.560824Z"
    }
   },
   "cell_type": "code",
   "source": [
    "#3. 三级模糊综合评价\n",
    "R = np.array([B1,B2,B3])\n",
    "A = np.array([0.3,0.3,0.4])\n",
    "B = np.dot(A, R)\n",
    "\n",
    "print(B)"
   ],
   "id": "4d12eef15622c4b1",
   "outputs": [
    {
     "name": "stdout",
     "output_type": "stream",
     "text": [
      "[0.1315625 0.16455   0.195875  0.2149375 0.168725  0.221125 ]\n"
     ]
    }
   ],
   "execution_count": 4
  }
 ],
 "metadata": {
  "kernelspec": {
   "display_name": "Python 3",
   "language": "python",
   "name": "python3"
  },
  "language_info": {
   "codemirror_mode": {
    "name": "ipython",
    "version": 2
   },
   "file_extension": ".py",
   "mimetype": "text/x-python",
   "name": "python",
   "nbconvert_exporter": "python",
   "pygments_lexer": "ipython2",
   "version": "2.7.6"
  }
 },
 "nbformat": 4,
 "nbformat_minor": 5
}
