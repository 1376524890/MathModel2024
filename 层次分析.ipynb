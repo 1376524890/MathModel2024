{
 "cells": [
  {
   "cell_type": "code",
   "id": "initial_id",
   "metadata": {
    "collapsed": true,
    "ExecuteTime": {
     "end_time": "2024-07-12T13:21:43.762802Z",
     "start_time": "2024-07-12T13:21:43.749176Z"
    }
   },
   "source": "import numpy as np",
   "outputs": [],
   "execution_count": 19
  },
  {
   "metadata": {},
   "cell_type": "markdown",
   "source": "# 一致性检验",
   "id": "ea770be4c3042c0a"
  },
  {
   "metadata": {},
   "cell_type": "markdown",
   "source": "",
   "id": "83d8d71cfd72cc7"
  },
  {
   "metadata": {
    "ExecuteTime": {
     "end_time": "2024-07-12T13:21:43.792801Z",
     "start_time": "2024-07-12T13:21:43.786728Z"
    }
   },
   "cell_type": "code",
   "source": [
    "A = np.array([[1,2,3,5], [1/2, 1, 1/2, 2], [1/3, 2, 1, 2], [1/5, 1/2, 1/2, 1]])\n",
    "\n",
    "n = A.shape[0]#shape[0]表示行数，shape[1]表示列数\n",
    "\n",
    "eig_val, eig_vec = np.linalg.eig(A)\n",
    "#np.linalg.eig(A) 求特征值和特征向量，先返回特征值，后返回特征向量"
   ],
   "id": "539a609fe9fac500",
   "outputs": [],
   "execution_count": null
  },
  {
   "metadata": {
    "ExecuteTime": {
     "end_time": "2024-07-12T13:21:43.839551Z",
     "start_time": "2024-07-12T13:21:43.826412Z"
    }
   },
   "cell_type": "code",
   "source": [
    "Max_eig_val = max(eig_val)\n",
    "\n",
    "CI = (Max_eig_val - n) / (n - 1)\n",
    "RI = [0, 0.0001, 0.52, 0.89, 1.12, 1.26, 1.36, 1.41, 1.46, 1.49, 1.52, 1.54, 1.56, 1.58, 1.59]# 查表获得\n",
    "\n",
    "CR = CI / RI[n-1]\n",
    "\n",
    "print(\"一致性指标CI= \",CI)\n",
    "print(\"一致性比率CR= \",CR)\n",
    "\n",
    "if CR >= 0.1:\n",
    "    print(\"模型一致性不可接受\")\n",
    "else:\n",
    "    print(\"模型一致性可接受\")"
   ],
   "id": "82b17b4aa01a207f",
   "outputs": [
    {
     "name": "stdout",
     "output_type": "stream",
     "text": [
      "一致性指标CI=  (0.03761001273071566+0j)\n",
      "一致性比率CR=  (0.04225844127046704+0j)\n",
      "模型一致性可接受\n"
     ]
    }
   ],
   "execution_count": 23
  },
  {
   "metadata": {},
   "cell_type": "markdown",
   "source": "# 算术平均法求权重",
   "id": "c1327ea50817493e"
  },
  {
   "metadata": {
    "ExecuteTime": {
     "end_time": "2024-07-12T13:21:43.854880Z",
     "start_time": "2024-07-12T13:21:43.841068Z"
    }
   },
   "cell_type": "code",
   "source": [
    "Asum = np.sum(A, axis=0) #axis=0表示按列求和,axis=1表示按行求和\n",
    "\n",
    "Stand_A = A / Asum\n",
    "\n",
    "ASumr = np.sum(Stand_A, axis=1)\n",
    "\n",
    "weight = ASumr / n\n",
    "\n",
    "print(\"各因素的权重为：\",weight)"
   ],
   "id": "2c1fa8aeae5a2453",
   "outputs": [
    {
     "name": "stdout",
     "output_type": "stream",
     "text": [
      "各因素的权重为： [0.48885991 0.18192996 0.2318927  0.09731744]\n"
     ]
    }
   ],
   "execution_count": 24
  },
  {
   "metadata": {},
   "cell_type": "markdown",
   "source": "# 几何平均法求权重",
   "id": "1ce91c9df9fa8e69"
  },
  {
   "metadata": {
    "ExecuteTime": {
     "end_time": "2024-07-12T13:21:43.869510Z",
     "start_time": "2024-07-12T13:21:43.856395Z"
    }
   },
   "cell_type": "code",
   "source": [
    "prod_A = np.prod(A, axis=1)\n",
    "\n",
    "prod_n_A = np.power(prod_A, 1/n)\n",
    "\n",
    "re_prod_A = prod_n_A / np.sum(prod_n_A)\n",
    "\n",
    "print(\"各因素的权重为：\",re_prod_A)"
   ],
   "id": "80726f15eacc3cc9",
   "outputs": [
    {
     "name": "stdout",
     "output_type": "stream",
     "text": [
      "各因素的权重为： [0.49492567 0.17782883 0.22724501 0.1000005 ]\n"
     ]
    }
   ],
   "execution_count": 25
  },
  {
   "metadata": {},
   "cell_type": "markdown",
   "source": "# 特征值法求权重",
   "id": "f337adb3a075a81f"
  },
  {
   "metadata": {
    "ExecuteTime": {
     "end_time": "2024-07-12T13:21:43.885163Z",
     "start_time": "2024-07-12T13:21:43.871299Z"
    }
   },
   "cell_type": "code",
   "source": [
    "max_index = np.argmax(eig_val)\n",
    "\n",
    "max_vectar = eig_vec[:, max_index]\n",
    "\n",
    "weights = max_vectar / np.sum(max_vectar)\n",
    "\n",
    "print(\"各因素的权重为：\",weights)"
   ],
   "id": "81a8c18f49bc5678",
   "outputs": [
    {
     "name": "stdout",
     "output_type": "stream",
     "text": [
      "各因素的权重为： [0.4933895 +0.j 0.17884562+0.j 0.230339  +0.j 0.09742588+0.j]\n"
     ]
    }
   ],
   "execution_count": 26
  }
 ],
 "metadata": {
  "kernelspec": {
   "display_name": "Python 3",
   "language": "python",
   "name": "python3"
  },
  "language_info": {
   "codemirror_mode": {
    "name": "ipython",
    "version": 2
   },
   "file_extension": ".py",
   "mimetype": "text/x-python",
   "name": "python",
   "nbconvert_exporter": "python",
   "pygments_lexer": "ipython2",
   "version": "2.7.6"
  }
 },
 "nbformat": 4,
 "nbformat_minor": 5
}
