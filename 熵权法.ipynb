{
 "cells": [
  {
   "metadata": {},
   "cell_type": "markdown",
   "source": "",
   "id": "e1c82b7a9b073925"
  },
  {
   "metadata": {},
   "cell_type": "markdown",
   "source": "![image.png](pic/熵权法_01.png)",
   "id": "bc02cdc54288a367"
  },
  {
   "metadata": {
    "ExecuteTime": {
     "end_time": "2024-07-23T14:28:19.064904Z",
     "start_time": "2024-07-23T14:28:19.059840Z"
    }
   },
   "cell_type": "code",
   "source": "import numpy as np",
   "id": "a6b8baa3d3a97ee7",
   "outputs": [],
   "execution_count": 5
  },
  {
   "metadata": {
    "ExecuteTime": {
     "end_time": "2024-07-23T14:28:19.095009Z",
     "start_time": "2024-07-23T14:28:19.074443Z"
    }
   },
   "cell_type": "code",
   "source": [
    "#定义mylog函数\n",
    "def mylog(p):\n",
    "    n = len(p)\n",
    "    lnp = np.zeros(n)\n",
    "    for i in range(n):\n",
    "        if p[i] == 0:\n",
    "            lnp[i] = 0\n",
    "        else:\n",
    "            lnp[i] = np.log(p[i])\n",
    "    return lnp"
   ],
   "id": "59b457a58fa09d30",
   "outputs": [],
   "execution_count": 6
  },
  {
   "metadata": {
    "ExecuteTime": {
     "end_time": "2024-07-23T14:28:19.110396Z",
     "start_time": "2024-07-23T14:28:19.096717Z"
    }
   },
   "cell_type": "code",
   "source": [
    "#定义一个指标矩阵\n",
    "X = np.array([[9,0,0,0], [8,3,0.9,0.5],[6,7,0.2,1]])"
   ],
   "id": "3b350fe0039638ef",
   "outputs": [],
   "execution_count": null
  },
  {
   "metadata": {},
   "cell_type": "markdown",
   "source": "![image.png](pic/熵权法_02.png)",
   "id": "68614235bbb3e1b9"
  },
  {
   "metadata": {},
   "cell_type": "code",
   "outputs": [
    {
     "name": "stdout",
     "output_type": "stream",
     "text": [
      "标准化矩阵Z为：\n",
      " [[0.66896473 0.         0.         0.        ]\n",
      " [0.59463532 0.3939193  0.97618706 0.4472136 ]\n",
      " [0.44597649 0.91914503 0.21693046 0.89442719]]\n"
     ]
    }
   ],
   "execution_count": 7,
   "source": [
    "#对矩阵X进行标准化处理得到矩阵Z\n",
    "Z = X / np.sqrt(np.sum(X*X, axis=0))\n",
    "\n",
    "print(\"标准化矩阵Z为：\\n\", Z)"
   ],
   "id": "1c3ef97f2557f4d1"
  },
  {
   "metadata": {
    "ExecuteTime": {
     "end_time": "2024-07-23T14:28:19.125903Z",
     "start_time": "2024-07-23T14:28:19.111393Z"
    }
   },
   "cell_type": "code",
   "source": [
    "#计算熵权所需变量和矩阵初始化\n",
    "n, m = Z.shape \n",
    "D = np.zeros((m)) #数组D用于保存每个指标的信息效用值"
   ],
   "id": "d35837a2db5bd584",
   "outputs": [],
   "execution_count": 8
  },
  {
   "metadata": {},
   "cell_type": "markdown",
   "source": [
    "![image.png](pic/熵权法_03.png)\n",
    "![image.png](pic/熵权法_04.png)"
   ],
   "id": "508f67fbaa2fa9c7"
  },
  {
   "metadata": {
    "ExecuteTime": {
     "end_time": "2024-07-23T14:28:19.141102Z",
     "start_time": "2024-07-23T14:28:19.127966Z"
    }
   },
   "cell_type": "code",
   "source": [
    "#计算每个指标的信息效用值\n",
    "for i in range(m):\n",
    "    x = Z[:,i] \n",
    "    p = x / np.sum(x) #对第i个指标的数据进行归一化处理，得到概率分布p\n",
    "    #使用自定义的mylog函数计算p的对数（如p中包含0，直接使用np.log(p)会得到-inf）\n",
    "    e = -np.sum(p*mylog(p)) / np.log(n) #计算第i个指标的信息熵\n",
    "    D[i] = 1 - e #计算第i个指标的信息效用值"
   ],
   "id": "90fdba7ff1c5099e",
   "outputs": [],
   "execution_count": 9
  },
  {
   "metadata": {},
   "cell_type": "markdown",
   "source": "![image.png](pic/熵权法_05.png)",
   "id": "94e6183fa54c200b"
  },
  {
   "metadata": {
    "ExecuteTime": {
     "end_time": "2024-07-23T14:28:19.156490Z",
     "start_time": "2024-07-23T14:28:19.142346Z"
    }
   },
   "cell_type": "code",
   "source": [
    "#根据信息效用值计算各指标权重\n",
    "W = D / np.sum(D)\n",
    "\n",
    "print(\"权重W = \")\n",
    "print(W)"
   ],
   "id": "272d0890c1bdcf6",
   "outputs": [
    {
     "name": "stdout",
     "output_type": "stream",
     "text": [
      "权重W = \n",
      "[0.00856537 0.30716152 0.39326471 0.2910084 ]\n"
     ]
    }
   ],
   "execution_count": 10
  }
 ],
 "metadata": {
  "kernelspec": {
   "display_name": "Python 3",
   "language": "python",
   "name": "python3"
  },
  "language_info": {
   "codemirror_mode": {
    "name": "ipython",
    "version": 2
   },
   "file_extension": ".py",
   "mimetype": "text/x-python",
   "name": "python",
   "nbconvert_exporter": "python",
   "pygments_lexer": "ipython2",
   "version": "2.7.6"
  }
 },
 "nbformat": 4,
 "nbformat_minor": 5
}
