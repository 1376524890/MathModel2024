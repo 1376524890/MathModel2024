{
 "cells": [
  {
   "cell_type": "code",
   "id": "3d4ee8fa3733677c",
   "metadata": {
    "collapsed": true,
    "ExecuteTime": {
     "end_time": "2024-08-19T03:39:37.148186Z",
     "start_time": "2024-08-19T03:39:36.587110Z"
    }
   },
   "source": [
    "from scipy.optimize import linear_sum_assignment\n",
    "  \n",
    "cost =np.array([[4,1,3],[2,0,5],[3,2,2]])\n",
    "row_ind,col_ind=linear_sum_assignment(cost)\n",
    "print(row_ind)#开销矩阵对应的行索引\n",
    "print(col_ind)#对应行索引的最优指派的列索引\n",
    "print(cost[row_ind,col_ind])#提取每个行索引的最优指派列索引所在的元素，形成数组\n",
    "print(cost[row_ind,col_ind].sum())#数组求和\n"
   ],
   "outputs": [
    {
     "name": "stdout",
     "output_type": "stream",
     "text": [
      "[0 1 2]\n",
      "[1 0 2]\n",
      "[1 2 2]\n",
      "5\n"
     ]
    }
   ],
   "execution_count": 2
  },
  {
   "metadata": {
    "ExecuteTime": {
     "end_time": "2024-08-19T03:41:12.466943Z",
     "start_time": "2024-08-19T03:39:40.189621Z"
    }
   },
   "cell_type": "code",
   "source": [
    "import numpy as np\n",
    "\n",
    "\n",
    "def check(x):\n",
    "\tif x.sum() > 400:\n",
    "\t\treturn False\n",
    "\tif x[0]+2*x[1]+2*x[2]+x[3]+6*x[4] > 800:\n",
    "\t\treturn False\n",
    "\tif 2*x[0]+x[1]+6*x[2]>200:\n",
    "\t\treturn False\n",
    "\tif x[2]+x[3]+5*x[3]>200:\n",
    "\t\treturn False\n",
    "\n",
    "\treturn True\n",
    "\n",
    "\n",
    "def get_radom():\n",
    "\tx = np.random.randint(100, size=5)\n",
    "\twhile not check(x):\n",
    "\t\tx = get_radom()\n",
    "\treturn x\n",
    "\n",
    "\n",
    "lim = 10**6\n",
    "ans = -1\n",
    "\n",
    "for i in range(lim):\n",
    "\tnum = get_radom()\n",
    "\tans = max(ans, num.all())\n",
    "\tif i % 10000 == 0:\n",
    "\t\tprint(i)\n",
    "\n",
    "print('ans=' + ans)\n"
   ],
   "id": "initial_id",
   "outputs": [
    {
     "name": "stdout",
     "output_type": "stream",
     "text": [
      "0\n",
      "10000\n",
      "20000\n",
      "30000\n",
      "40000\n",
      "50000\n",
      "60000\n",
      "70000\n",
      "80000\n",
      "90000\n",
      "100000\n",
      "110000\n",
      "120000\n",
      "130000\n",
      "140000\n",
      "150000\n",
      "160000\n",
      "170000\n",
      "180000\n",
      "190000\n",
      "200000\n",
      "210000\n",
      "220000\n",
      "230000\n",
      "240000\n",
      "250000\n",
      "260000\n",
      "270000\n",
      "280000\n",
      "290000\n",
      "300000\n"
     ]
    },
    {
     "ename": "KeyboardInterrupt",
     "evalue": "",
     "output_type": "error",
     "traceback": [
      "\u001B[1;31m---------------------------------------------------------------------------\u001B[0m",
      "\u001B[1;31mKeyboardInterrupt\u001B[0m                         Traceback (most recent call last)",
      "Cell \u001B[1;32mIn[3], line 28\u001B[0m\n\u001B[0;32m     25\u001B[0m ans \u001B[38;5;241m=\u001B[39m \u001B[38;5;241m-\u001B[39m\u001B[38;5;241m1\u001B[39m\n\u001B[0;32m     27\u001B[0m \u001B[38;5;28;01mfor\u001B[39;00m i \u001B[38;5;129;01min\u001B[39;00m \u001B[38;5;28mrange\u001B[39m(lim):\n\u001B[1;32m---> 28\u001B[0m \tnum \u001B[38;5;241m=\u001B[39m \u001B[43mget_radom\u001B[49m\u001B[43m(\u001B[49m\u001B[43m)\u001B[49m\n\u001B[0;32m     29\u001B[0m \tans \u001B[38;5;241m=\u001B[39m \u001B[38;5;28mmax\u001B[39m(ans, num\u001B[38;5;241m.\u001B[39mall())\n\u001B[0;32m     30\u001B[0m \t\u001B[38;5;28;01mif\u001B[39;00m i \u001B[38;5;241m%\u001B[39m \u001B[38;5;241m10000\u001B[39m \u001B[38;5;241m==\u001B[39m \u001B[38;5;241m0\u001B[39m:\n",
      "Cell \u001B[1;32mIn[3], line 20\u001B[0m, in \u001B[0;36mget_radom\u001B[1;34m()\u001B[0m\n\u001B[0;32m     18\u001B[0m x \u001B[38;5;241m=\u001B[39m np\u001B[38;5;241m.\u001B[39mrandom\u001B[38;5;241m.\u001B[39mrandint(\u001B[38;5;241m100\u001B[39m, size\u001B[38;5;241m=\u001B[39m\u001B[38;5;241m5\u001B[39m)\n\u001B[0;32m     19\u001B[0m \u001B[38;5;28;01mwhile\u001B[39;00m \u001B[38;5;129;01mnot\u001B[39;00m check(x):\n\u001B[1;32m---> 20\u001B[0m \tx \u001B[38;5;241m=\u001B[39m \u001B[43mget_radom\u001B[49m\u001B[43m(\u001B[49m\u001B[43m)\u001B[49m\n\u001B[0;32m     21\u001B[0m \u001B[38;5;28;01mreturn\u001B[39;00m x\n",
      "Cell \u001B[1;32mIn[3], line 20\u001B[0m, in \u001B[0;36mget_radom\u001B[1;34m()\u001B[0m\n\u001B[0;32m     18\u001B[0m x \u001B[38;5;241m=\u001B[39m np\u001B[38;5;241m.\u001B[39mrandom\u001B[38;5;241m.\u001B[39mrandint(\u001B[38;5;241m100\u001B[39m, size\u001B[38;5;241m=\u001B[39m\u001B[38;5;241m5\u001B[39m)\n\u001B[0;32m     19\u001B[0m \u001B[38;5;28;01mwhile\u001B[39;00m \u001B[38;5;129;01mnot\u001B[39;00m check(x):\n\u001B[1;32m---> 20\u001B[0m \tx \u001B[38;5;241m=\u001B[39m \u001B[43mget_radom\u001B[49m\u001B[43m(\u001B[49m\u001B[43m)\u001B[49m\n\u001B[0;32m     21\u001B[0m \u001B[38;5;28;01mreturn\u001B[39;00m x\n",
      "    \u001B[1;31m[... skipping similar frames: get_radom at line 20 (7 times)]\u001B[0m\n",
      "Cell \u001B[1;32mIn[3], line 20\u001B[0m, in \u001B[0;36mget_radom\u001B[1;34m()\u001B[0m\n\u001B[0;32m     18\u001B[0m x \u001B[38;5;241m=\u001B[39m np\u001B[38;5;241m.\u001B[39mrandom\u001B[38;5;241m.\u001B[39mrandint(\u001B[38;5;241m100\u001B[39m, size\u001B[38;5;241m=\u001B[39m\u001B[38;5;241m5\u001B[39m)\n\u001B[0;32m     19\u001B[0m \u001B[38;5;28;01mwhile\u001B[39;00m \u001B[38;5;129;01mnot\u001B[39;00m check(x):\n\u001B[1;32m---> 20\u001B[0m \tx \u001B[38;5;241m=\u001B[39m \u001B[43mget_radom\u001B[49m\u001B[43m(\u001B[49m\u001B[43m)\u001B[49m\n\u001B[0;32m     21\u001B[0m \u001B[38;5;28;01mreturn\u001B[39;00m x\n",
      "Cell \u001B[1;32mIn[3], line 18\u001B[0m, in \u001B[0;36mget_radom\u001B[1;34m()\u001B[0m\n\u001B[0;32m     17\u001B[0m \u001B[38;5;28;01mdef\u001B[39;00m \u001B[38;5;21mget_radom\u001B[39m():\n\u001B[1;32m---> 18\u001B[0m \tx \u001B[38;5;241m=\u001B[39m \u001B[43mnp\u001B[49m\u001B[38;5;241;43m.\u001B[39;49m\u001B[43mrandom\u001B[49m\u001B[38;5;241;43m.\u001B[39;49m\u001B[43mrandint\u001B[49m\u001B[43m(\u001B[49m\u001B[38;5;241;43m100\u001B[39;49m\u001B[43m,\u001B[49m\u001B[43m \u001B[49m\u001B[43msize\u001B[49m\u001B[38;5;241;43m=\u001B[39;49m\u001B[38;5;241;43m5\u001B[39;49m\u001B[43m)\u001B[49m\n\u001B[0;32m     19\u001B[0m \t\u001B[38;5;28;01mwhile\u001B[39;00m \u001B[38;5;129;01mnot\u001B[39;00m check(x):\n\u001B[0;32m     20\u001B[0m \t\tx \u001B[38;5;241m=\u001B[39m get_radom()\n",
      "\u001B[1;31mKeyboardInterrupt\u001B[0m: "
     ]
    }
   ],
   "execution_count": 3
  },
  {
   "metadata": {},
   "cell_type": "code",
   "outputs": [],
   "execution_count": null,
   "source": "",
   "id": "af031f9ef2fc7c62"
  }
 ],
 "metadata": {
  "kernelspec": {
   "display_name": "Python 3",
   "language": "python",
   "name": "python3"
  },
  "language_info": {
   "codemirror_mode": {
    "name": "ipython",
    "version": 2
   },
   "file_extension": ".py",
   "mimetype": "text/x-python",
   "name": "python",
   "nbconvert_exporter": "python",
   "pygments_lexer": "ipython2",
   "version": "2.7.6"
  }
 },
 "nbformat": 4,
 "nbformat_minor": 5
}
