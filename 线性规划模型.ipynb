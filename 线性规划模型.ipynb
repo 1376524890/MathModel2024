{
 "cells": [
  {
   "cell_type": "code",
   "id": "9ee23aa798db4d99",
   "metadata": {
    "collapsed": true,
    "ExecuteTime": {
     "end_time": "2024-07-14T12:31:09.630565Z",
     "start_time": "2024-07-14T12:31:08.815017Z"
    }
   },
   "source": "from scipy.optimize import linprog",
   "outputs": [],
   "execution_count": 1
  },
  {
   "metadata": {},
   "cell_type": "markdown",
   "source": "![](pic/线性规划_01.png)",
   "id": "4f443f5e57ee8e47"
  },
  {
   "metadata": {
    "ExecuteTime": {
     "end_time": "2024-07-14T12:31:09.646114Z",
     "start_time": "2024-07-14T12:31:09.631568Z"
    }
   },
   "cell_type": "code",
   "source": [
    "c = [-2, -3, 5]\n",
    "\n",
    "A = [[-2, 5, -1], [1, 3, 1]]\n",
    "\n",
    "b = [-10, 12]\n",
    "Aeq = [[1, 1, 1]]\n",
    "Beq = 7\n",
    "\n",
    "x0_bounds = (0, None)\n",
    "x1_bounds = (0, None)\n",
    "x2_bounds = (0, None)"
   ],
   "id": "initial_id",
   "outputs": [],
   "execution_count": 2
  },
  {
   "metadata": {
    "ExecuteTime": {
     "end_time": "2024-07-14T12:31:09.662258Z",
     "start_time": "2024-07-14T12:31:09.647345Z"
    }
   },
   "cell_type": "code",
   "source": [
    "# 定义线性目标函数系数向量，其中 c = [-2, -3, 5]，表示目标函数为 -2*x0 - 3*x1 + 5*x2，目标是最小化该函数\n",
    "\n",
    "# 定义不等式约束矩阵 A 和对应的右侧向量 b，表示约束条件为 Ax <= b\n",
    "# 其中 A = [[-2, 5, -1], [1, 3, 1]] 和 b = [-10, 12]，即 -2*x0 + 5*x1 - x2 <= -10 和 x0 + 3*x1 + x2 <= 12\n",
    "\n",
    "# 定义等式约束矩阵 Aeq 和对应的右侧向量 Beq，表示约束条件为 Aeq * x == Beq\n",
    "# 其中 Aeq = [[1, 1, 1]] 和 Beq = 7，即 x0 + x1 + x2 == 7\n",
    "\n",
    "# 定义变量的边界条件，表示变量的下界和上界\n",
    "# 其中 x0_bounds, x1_bounds, x2_bounds 分别定义了 x0, x1, x2 的取值范围，这里都设为 (0, None)，表示这三个变量的下界为0，上界无限制\n"
   ],
   "id": "6ffc9afec6883a62",
   "outputs": [],
   "execution_count": 3
  },
  {
   "metadata": {
    "ExecuteTime": {
     "end_time": "2024-07-14T12:31:09.693467Z",
     "start_time": "2024-07-14T12:31:09.664179Z"
    }
   },
   "cell_type": "code",
   "source": [
    "# 使用线性规划求解器解决优化问题\n",
    "# 解决的是一个线性规划问题，目标是最大化或最小化一个线性目标函数\n",
    "# 同时满足一系列线性不等式约束（A_ub * x <= b_ub）和线性等式约束（A_eq * x == b_eq）\n",
    "# x0_bounds, x1_bounds, x2_bounds 定义了变量的上下界\n",
    "# method='highs' 指定了使用Highs求解器进行求解\n",
    "res = linprog(c, A_ub=A, b_ub=b, A_eq=Aeq, b_eq=Beq, bounds=[x0_bounds, x1_bounds, x2_bounds], method='highs')\n",
    "\n",
    "res.fun = -res.fun  # To get the maximum value instead of the minimum\n",
    "\n",
    "print(res)"
   ],
   "id": "d64e661266069382",
   "outputs": [
    {
     "name": "stdout",
     "output_type": "stream",
     "text": [
      "        message: Optimization terminated successfully. (HiGHS Status 7: Optimal)\n",
      "        success: True\n",
      "         status: 0\n",
      "            fun: 14.571428571428571\n",
      "              x: [ 6.429e+00  5.714e-01  0.000e+00]\n",
      "            nit: 3\n",
      "          lower:  residual: [ 6.429e+00  5.714e-01  0.000e+00]\n",
      "                 marginals: [ 0.000e+00  0.000e+00  7.143e+00]\n",
      "          upper:  residual: [       inf        inf        inf]\n",
      "                 marginals: [ 0.000e+00  0.000e+00  0.000e+00]\n",
      "          eqlin:  residual: [ 0.000e+00]\n",
      "                 marginals: [-2.286e+00]\n",
      "        ineqlin:  residual: [ 0.000e+00  3.857e+00]\n",
      "                 marginals: [-1.429e-01 -0.000e+00]\n",
      " mip_node_count: 0\n",
      " mip_dual_bound: 0.0\n",
      "        mip_gap: 0.0\n"
     ]
    }
   ],
   "execution_count": 4
  }
 ],
 "metadata": {
  "kernelspec": {
   "display_name": "Python 3",
   "language": "python",
   "name": "python3"
  },
  "language_info": {
   "codemirror_mode": {
    "name": "ipython",
    "version": 2
   },
   "file_extension": ".py",
   "mimetype": "text/x-python",
   "name": "python",
   "nbconvert_exporter": "python",
   "pygments_lexer": "ipython2",
   "version": "2.7.6"
  }
 },
 "nbformat": 4,
 "nbformat_minor": 5
}
