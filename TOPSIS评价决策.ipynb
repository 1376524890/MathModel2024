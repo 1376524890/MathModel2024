{
 "cells": [
  {
   "metadata": {},
   "cell_type": "markdown",
   "source": "![](img/TOPSIS_01.png)",
   "id": "34dc65b7d32c56d7"
  },
  {
   "metadata": {},
   "cell_type": "code",
   "outputs": [],
   "execution_count": null,
   "source": "",
   "id": "923cce96471515f7"
  },
  {
   "metadata": {},
   "cell_type": "markdown",
   "source": "![](img/TOPSIS_02.png)",
   "id": "5344b43ec8e0a23"
  },
  {
   "metadata": {},
   "cell_type": "code",
   "outputs": [],
   "execution_count": null,
   "source": "",
   "id": "7c6588683185c29a"
  },
  {
   "metadata": {},
   "cell_type": "markdown",
   "source": "![](img/TOPSIS_03.png)",
   "id": "2117aabb7b38bb7a"
  }
 ],
 "metadata": {
  "kernelspec": {
   "display_name": "Python 3",
   "language": "python",
   "name": "python3"
  },
  "language_info": {
   "codemirror_mode": {
    "name": "ipython",
    "version": 2
   },
   "file_extension": ".py",
   "mimetype": "text/x-python",
   "name": "python",
   "nbconvert_exporter": "python",
   "pygments_lexer": "ipython2",
   "version": "2.7.6"
  }
 },
 "nbformat": 4,
 "nbformat_minor": 5
}
