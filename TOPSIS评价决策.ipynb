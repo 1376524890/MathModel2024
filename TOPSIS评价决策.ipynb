{
 "cells": [
  {
   "metadata": {},
   "cell_type": "markdown",
   "source": "",
   "id": "f20ff3426ceae006"
  },
  {
   "metadata": {
    "ExecuteTime": {
     "end_time": "2024-07-13T02:50:10.828173Z",
     "start_time": "2024-07-13T02:49:47.682675Z"
    }
   },
   "cell_type": "code",
   "source": [
    "import numpy as np\n",
    "\n",
    "print(\"输入参评数目：\")\n",
    "n = int(input())\n",
    "\n",
    "print(\"输入参评指标数目：\")\n",
    "m = int(input())\n",
    "\n",
    "print(\"输入矩阵类型：1：极大型 2：极小型 3. 中间型 4. 区间型\")\n",
    "kind= input().split(\" \")\n",
    "\n",
    "print(\"输入矩阵：\")\n",
    "A = np.zeros((n,m))\n",
    "\n",
    "#每次输入一行\n",
    "for i in range(n):\n",
    "    A[i] = input().split(\" \")\n",
    "    A[i] = list(map(float,A[i]))\n",
    "        \n",
    "print(\"输入矩阵为：\\n{}\".format(A))"
   ],
   "id": "82abb304806e1215",
   "outputs": [
    {
     "name": "stdout",
     "output_type": "stream",
     "text": [
      "输入参评数目：\n",
      "输入参评指标数目：\n",
      "输入矩阵类型：1：极大型 2：极小型 3. 中间型 4. 区间型\n",
      "输入矩阵：\n",
      "输入矩阵为：\n",
      "[[122.  23.   3.]\n",
      " [132.   2.   3.]]\n"
     ]
    }
   ],
   "execution_count": 4
  },
  {
   "metadata": {
    "ExecuteTime": {
     "end_time": "2024-07-13T02:50:10.843329Z",
     "start_time": "2024-07-13T02:50:10.830249Z"
    }
   },
   "cell_type": "code",
   "source": [
    "#极小型指标转换为极大型指标\n",
    "\n",
    "def minToMax(maxx, x):\n",
    "    x = list(x)\n",
    "    ans = [[maxx-e] for e in x]\n",
    "    return np.array(ans)"
   ],
   "id": "b1c5442958dfed37",
   "outputs": [],
   "execution_count": 5
  },
  {
   "metadata": {
    "ExecuteTime": {
     "end_time": "2024-07-13T02:50:10.858266Z",
     "start_time": "2024-07-13T02:50:10.844348Z"
    }
   },
   "cell_type": "code",
   "source": [
    "#中间型指标转换为极大型指标\n",
    "\n",
    "def midToMax(bestx, x):\n",
    "    x = list(x)\n",
    "    h = [abs(e - bestx) for e in x]\n",
    "    M = max(h)\n",
    "    if M == 0:\n",
    "        M = 1 #防止最大差值为0\n",
    "        \n",
    "    ans = [[(1-e/M)] for e in h] #计算每个差值占最大差值的比例，并从1中减去，得到新指标值\n",
    "    \n",
    "    return np.array(ans)"
   ],
   "id": "3918ff6596277b07",
   "outputs": [],
   "execution_count": 6
  },
  {
   "metadata": {},
   "cell_type": "markdown",
   "source": [
    "\n",
    "![](img/TOPSIS_01.png)"
   ],
   "id": "34dc65b7d32c56d7"
  },
  {
   "metadata": {
    "ExecuteTime": {
     "end_time": "2024-07-13T02:50:10.874366Z",
     "start_time": "2024-07-13T02:50:10.860268Z"
    }
   },
   "cell_type": "code",
   "source": "",
   "id": "923cce96471515f7",
   "outputs": [],
   "execution_count": 6
  },
  {
   "metadata": {},
   "cell_type": "markdown",
   "source": "![](img/TOPSIS_02.png)",
   "id": "5344b43ec8e0a23"
  },
  {
   "metadata": {
    "ExecuteTime": {
     "end_time": "2024-07-13T02:50:10.890366Z",
     "start_time": "2024-07-13T02:50:10.876366Z"
    }
   },
   "cell_type": "code",
   "source": "",
   "id": "7c6588683185c29a",
   "outputs": [],
   "execution_count": 6
  },
  {
   "metadata": {},
   "cell_type": "markdown",
   "source": "![](img/TOPSIS_03.png)",
   "id": "2117aabb7b38bb7a"
  }
 ],
 "metadata": {
  "kernelspec": {
   "display_name": "Python 3",
   "language": "python",
   "name": "python3"
  },
  "language_info": {
   "codemirror_mode": {
    "name": "ipython",
    "version": 2
   },
   "file_extension": ".py",
   "mimetype": "text/x-python",
   "name": "python",
   "nbconvert_exporter": "python",
   "pygments_lexer": "ipython2",
   "version": "2.7.6"
  }
 },
 "nbformat": 4,
 "nbformat_minor": 5
}
