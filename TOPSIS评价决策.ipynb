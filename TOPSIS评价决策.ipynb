{
 "cells": [
  {
   "metadata": {},
   "cell_type": "markdown",
   "source": "",
   "id": "f20ff3426ceae006"
  },
  {
   "metadata": {
    "ExecuteTime": {
     "end_time": "2024-07-13T02:50:10.828173Z",
     "start_time": "2024-07-13T02:49:47.682675Z"
    }
   },
   "cell_type": "code",
   "source": [
    "import numpy as np\n",
    "\n",
    "print(\"输入参评数目：\")\n",
    "n = int(input())\n",
    "\n",
    "print(\"输入参评指标数目：\")\n",
    "m = int(input())\n",
    "\n",
    "print(\"输入矩阵类型：1：极大型 2：极小型 3. 中间型 4. 区间型\")\n",
    "kind= input().split(\" \")\n",
    "\n",
    "print(\"输入矩阵：\")\n",
    "A = np.zeros((n,m))\n",
    "\n",
    "#每次输入一行\n",
    "for i in range(n):\n",
    "    A[i] = input().split(\" \")\n",
    "    A[i] = list(map(float,A[i]))\n",
    "        \n",
    "print(\"输入矩阵为：\\n{}\".format(A))"
   ],
   "id": "fdaa9784a3913ec8",
   "outputs": [],
   "execution_count": null
  },
  {
   "metadata": {},
   "cell_type": "markdown",
   "source": "![图片1](TOPSIS_01.png)",
   "id": "f751de501c03492d"
  },
  {
   "metadata": {
    "ExecuteTime": {
     "end_time": "2024-07-13T02:50:10.843329Z",
     "start_time": "2024-07-13T02:50:10.830249Z"
    }
   },
   "cell_type": "code",
   "source": [
    "#极小型指标转换为极大型指标\n",
    "\n",
    "def minToMax(maxx, x):\n",
    "    x = list(x)\n",
    "    ans = [[maxx-e] for e in x]\n",
    "    return np.array(ans)"
   ],
   "id": "b1c5442958dfed37",
   "outputs": [],
   "execution_count": 5
  },
  {
   "metadata": {
    "ExecuteTime": {
     "end_time": "2024-07-13T02:50:10.858266Z",
     "start_time": "2024-07-13T02:50:10.844348Z"
    }
   },
   "cell_type": "code",
   "source": [
    "#中间型指标转换为极大型指标\n",
    "\n",
    "def midToMax(bestx, x):\n",
    "    x = list(x)\n",
    "    h = [abs(e - bestx) for e in x]\n",
    "    M = max(h)\n",
    "    if M == 0:\n",
    "        M = 1 #防止最大差值为0\n",
    "        \n",
    "    ans = [[(1-e/M)] for e in h] #计算每个差值占最大差值的比例，并从1中减去，得到新指标值\n",
    "    \n",
    "    return np.array(ans)\n"
   ],
   "id": "b0a841390b244273",
   "outputs": [],
   "execution_count": null
  },
  {
   "metadata": {},
   "cell_type": "code",
   "outputs": [],
   "execution_count": null,
   "source": [
    "#区间型指标转换为极大型指标\n",
    "\n",
    "def ragToMax(lowx, highx, x):\n",
    "    x = list(x)\n",
    "    M = max(lowx-min(x), max(x)-highx)\n",
    "    if M==0:\n",
    "        M = 1 #防止最大距离为0\n",
    "        \n",
    "    ans = []\n",
    "    for i in range(len(x)):\n",
    "        if x[i] < lowx:\n",
    "            ans.append(1-(lowx-x[i])/M)#如果指标值小于下限，则新指标值等于1减去指标值占最大距离的比例\n",
    "        elif x[i] > highx:\n",
    "            ans.append(1-(x[i]-highx)/M)#如果指标值大于上限，则新指标值等于指标值占最大距离的比例\n",
    "        else:\n",
    "            ans.append([1])#指标在区间内，新指标值等于1\n",
    "            \n",
    "    return np.array(ans)\n"
   ],
   "id": "fe0bba768078e7b5"
  },
  {
   "metadata": {},
   "cell_type": "code",
   "outputs": [],
   "execution_count": null,
   "source": [
    "#统一指标类型，全部转化为极大型指标\n",
    "\n",
    "X = np.zeros((n,1))\n",
    "for i in range(n):\n",
    "    if kind[i] == \"1\": #极大型指标\n",
    "        v = np.array(A[:,i]) #切片，提取所有行的第i列\n",
    "        \n",
    "    elif kind[i] == \"2\": #极小型指标\n",
    "        maxA = max(A[:,i])\n",
    "        v = minToMax(maxA, A[:,i])\n",
    "        \n",
    "    elif kind[i] == \"3\": #中间型指标\n",
    "        print(\"请输入最优值：\")\n",
    "        bestA = eval(input())\n",
    "        v = midToMax(bestA, A[:,i])\n",
    "        \n",
    "    elif kind[i] == \"4\": #区间型指标\n",
    "        print(\"请输入下限值：\")\n",
    "        lowA = eval(input())\n",
    "        print(\"请输入上限值：\")\n",
    "        highA = eval(input())\n",
    "        v = ragToMax(lowA, highA, A[:,i])\n",
    "        \n",
    "    if i == 0:\n",
    "        X = v.reshape(-1, 1) #如果是第一行，则直接赋值\n",
    "    else:\n",
    "        X = np.hstack((X,v.reshape(-1, 1))) #否则，水平拼接\n",
    "        \n",
    "    print(\"统一后的矩阵为：\\n{}\".format(X))\n",
    "    "
   ],
   "id": "1ec017a3a0722000"
  },
  {
   "metadata": {},
   "cell_type": "markdown",
   "source": "![图片2](TOPSIS_02.png)",
   "id": "4b51fb82e24351bb"
  },
  {
   "metadata": {},
   "cell_type": "code",
   "outputs": [],
   "execution_count": null,
   "source": [
    "#对统一指标后的矩阵进行标准化处理\n",
    "\n",
    "X= X.astype('float')\n",
    "for j in range(n):\n",
    "    X[:,j] = X[:,j]/np.sqrt(sum(X[:,j]**2))\n",
    "\n",
    "print(\"标准化后的矩阵为：\\n{}\".format(X))"
   ],
   "id": "7f82fe1d4d69fd82"
  },
  {
   "metadata": {},
   "cell_type": "markdown",
   "source": "![图片3](TOPSIS_03.png)",
   "id": "4cdef56f41c9cf62"
  },
  {
   "metadata": {},
   "cell_type": "code",
   "outputs": [],
   "execution_count": null,
   "source": [
    "#最大最小值距离的计算\n",
    "\n",
    "x_max = np.max(X, axis=0)\n",
    "x_min = np.min(X, axis=0)\n",
    "d_z = np.sqrt(np.sum(np.square((X - np.tile(x_max,(n,1)))),axis=1)) #计算每个参评对象与最优情况的距离d+\n",
    "d_f = np.sqrt(np.sum(np.square((X - np.tile(x_min,(n,1)))),axis=1)) #计算每个参评对象与最差情况的距离d-\n",
    "\n",
    "print(\"每个指标最大值：\", x_max)\n",
    "print(\"每个指标最小值：\", x_min)\n",
    "print(\"每个参评对象与最优情况的距离d+：\", d_z)\n",
    "print(\"每个参评对象与最差情况的距离d-：\", d_f)\n"
   ],
   "id": "73ec9d3cf3a026f7"
  },
  {
   "metadata": {},
   "cell_type": "code",
   "outputs": [],
   "execution_count": 6,
   "source": [
    "#计算每个参评对象得分排名\n",
    "s = d_f/(d_z*d_f)\n",
    "Score = 100*s/sum(s)\n",
    "for i in range(len(Score)):\n",
    "    print(f\"第{i+1}个标准化后百分制得分为{Score[i]}\")"
   ],
   "id": "3918ff6596277b07"
  },
  {
   "metadata": {},
   "cell_type": "markdown",
   "source": "",
   "id": "34dc65b7d32c56d7"
  },
  {
   "metadata": {},
   "cell_type": "markdown",
   "source": "",
   "id": "5344b43ec8e0a23"
  },
  {
   "metadata": {},
   "cell_type": "markdown",
   "source": "",
   "id": "2117aabb7b38bb7a"
  }
 ],
 "metadata": {
  "kernelspec": {
   "display_name": "Python 3",
   "language": "python",
   "name": "python3"
  },
  "language_info": {
   "codemirror_mode": {
    "name": "ipython",
    "version": 2
   },
   "file_extension": ".py",
   "mimetype": "text/x-python",
   "name": "python",
   "nbconvert_exporter": "python",
   "pygments_lexer": "ipython2",
   "version": "2.7.6"
  }
 },
 "nbformat": 4,
 "nbformat_minor": 5
}
